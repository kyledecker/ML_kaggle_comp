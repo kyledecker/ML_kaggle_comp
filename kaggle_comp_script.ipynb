{
 "cells": [
  {
   "cell_type": "markdown",
   "metadata": {},
   "source": [
    "## Kyle Decker\n",
    "STA561 -  Probabilistic Machine Learning  \n",
    "Kaggle Competition Writeup"
   ]
  },
  {
   "cell_type": "markdown",
   "metadata": {},
   "source": [
    "## Import libraries"
   ]
  },
  {
   "cell_type": "code",
   "execution_count": 2,
   "metadata": {
    "collapsed": false
   },
   "outputs": [],
   "source": [
    "import pandas as pd  \n",
    "from sklearn.cross_validation import train_test_split\n",
    "from sklearn.ensemble import RandomForestRegressor\n",
    "from sklearn.metrics import mean_squared_error\n",
    "from sklearn import decomposition\n",
    "from sklearn.linear_model import Lasso\n",
    "from sklearn.svm import SVR\n",
    "import matplotlib.pyplot as plt\n",
    "from sklearn.metrics import r2_score\n",
    "from sklearn.metrics import mean_absolute_error\n",
    "%matplotlib inline\n",
    "from sklearn.linear_model import BayesianRidge\n",
    "from sklearn.preprocessing import PolynomialFeatures\n",
    "import numpy as np\n",
    "from sklearn.neural_network import MLPRegressor\n",
    "import time\n",
    "import warnings\n",
    "import pylab\n",
    "from sklearn.ensemble import AdaBoostRegressor\n",
    "from sklearn.tree import DecisionTreeRegressor\n",
    "warnings.filterwarnings('ignore')"
   ]
  },
  {
   "cell_type": "markdown",
   "metadata": {},
   "source": [
    "## Read in data and perform minor preprocessing"
   ]
  },
  {
   "cell_type": "code",
   "execution_count": 3,
   "metadata": {
    "collapsed": false
   },
   "outputs": [],
   "source": [
    "# Read in training and test data\n",
    "train_tmp = pd.read_csv('pml_train.csv')\n",
    "test_tmp = pd.read_csv('pml_test_features.csv')\n",
    "\n",
    "# Drop the loss col temporarily in order to merge data frames\n",
    "loss = train_tmp['loss']\n",
    "train_tmp.drop(labels=['loss'], axis=1,inplace = True)\n",
    "\n",
    "# Cat the training and test in order to convert categorical vars to dummies\n",
    "frames = [train_tmp,test_tmp]\n",
    "data_tmp = pd.concat(frames) \n",
    "\n",
    "# Convert categorical features to dummy vars\n",
    "data_dummy = pd.get_dummies(data_tmp)\n",
    "\n",
    "# Split back in to train and test\n",
    "train_size = len(train_tmp['id'])\n",
    "train = data_dummy.iloc[0:train_size,:]\n",
    "test = data_dummy.iloc[train_size:,:]\n"
   ]
  },
  {
   "cell_type": "markdown",
   "metadata": {},
   "source": [
    "## Exploratory analysis and Feature Reduction"
   ]
  },
  {
   "cell_type": "code",
   "execution_count": null,
   "metadata": {
    "collapsed": false
   },
   "outputs": [],
   "source": [
    "# Get some summary stats\n",
    "train.describe()"
   ]
  },
  {
   "cell_type": "code",
   "execution_count": 4,
   "metadata": {
    "collapsed": false
   },
   "outputs": [],
   "source": [
    "# Drop the categorical features that have very few instances (<10000)\n",
    "cols_to_drop = []\n",
    "for i in range(len(train.iloc[1])):\n",
    "    if (np.count_nonzero(train.iloc[:,i]) < 10000):\n",
    "        cols_to_drop = np.append(cols_to_drop,i)\n",
    "train.drop(train.columns[cols_to_drop.astype(int)],axis=1,inplace = True)\n",
    "test.drop(test.columns[cols_to_drop.astype(int)],axis=1,inplace = True)\n",
    "\n",
    "# Move the loss to column 0\n",
    "train.insert(0, 'loss', loss)\n",
    "\n",
    "# randomly partition data into train_sub (80%) and cross_val (20%) sets\n",
    "train_sub,cross_val = train_test_split(train, test_size=.2)"
   ]
  },
  {
   "cell_type": "code",
   "execution_count": null,
   "metadata": {
    "collapsed": false
   },
   "outputs": [],
   "source": [
    "len(train.iloc[1])"
   ]
  },
  {
   "cell_type": "code",
   "execution_count": null,
   "metadata": {
    "collapsed": false
   },
   "outputs": [],
   "source": [
    "# Scatter plot of continuous vars\n",
    "fig_size = plt.rcParams[\"figure.figsize\"]\n",
    "fig_size[0] = 10\n",
    "fig_size[1] = 16\n",
    "plt.rcParams[\"figure.figsize\"] = fig_size\n",
    "\n",
    "f, (ax1, ax2, ax3, ax4, ax5, ax6, ax7, ax8, ax9, ax10, ax11, ax12, ax13, ax14) = plt.subplots(14, sharex=True, sharey=True)\n",
    "ax1.scatter(train['cont1'],train['loss'])\n",
    "f, (ax1).title.set_text('cont1')\n",
    "ax2.scatter(train['cont2'],train['loss'])\n",
    "f, (ax2).title.set_text('cont2')\n",
    "ax3.scatter(train['cont3'],train['loss'])\n",
    "f, (ax3).title.set_text('cont3')\n",
    "ax4.scatter(train['cont4'],train['loss'])\n",
    "f, (ax4).title.set_text('cont4')\n",
    "ax5.scatter(train['cont5'],train['loss'])\n",
    "f, (ax5).title.set_text('cont5')\n",
    "ax6.scatter(train['cont6'],train['loss'])\n",
    "f, (ax6).title.set_text('cont6')\n",
    "ax7.scatter(train['cont7'],train['loss'])\n",
    "f, (ax7).title.set_text('cont6')\n",
    "ax8.scatter(train['cont8'],train['loss'])\n",
    "f, (ax8).title.set_text('cont8')\n",
    "ax9.scatter(train['cont9'],train['loss'])\n",
    "f, (ax9).title.set_text('cont9')\n",
    "ax10.scatter(train['cont10'],train['loss'])\n",
    "f, (ax10).title.set_text('cont10')\n",
    "ax11.scatter(train['cont11'],train['loss'])\n",
    "f, (ax11).title.set_text('cont11')\n",
    "ax12.scatter(train['cont12'],train['loss'])\n",
    "f, (ax12).title.set_text('cont12')\n",
    "ax13.scatter(train['cont13'],train['loss'])\n",
    "f, (ax13).title.set_text('cont13')\n",
    "ax14.scatter(train['cont14'],train['loss'])\n",
    "f, (ax14).title.set_text('cont14')"
   ]
  },
  {
   "cell_type": "markdown",
   "metadata": {},
   "source": [
    "## Some features seem highly correlated"
   ]
  },
  {
   "cell_type": "code",
   "execution_count": 5,
   "metadata": {
    "collapsed": false
   },
   "outputs": [
    {
     "name": "stdout",
     "output_type": "stream",
     "text": [
      "cont11 and cont12 are highly correlated with r2 score of 0.988691\n"
     ]
    },
    {
     "data": {
      "image/png": "[encoded data removed]",
      "text/plain": [
       "<matplotlib.figure.Figure at 0x116123d68>"
      ]
     },
     "metadata": {},
     "output_type": "display_data"
    }
   ],
   "source": [
    "# Plot two variables against eachother that seem correlated\n",
    "fig_size = plt.rcParams[\"figure.figsize\"]\n",
    "fig_size[0] = 5\n",
    "fig_size[1] = 5\n",
    "plt.rcParams[\"figure.figsize\"] = fig_size\n",
    "plt.scatter(train['cont11'],train['cont12'])\n",
    "# Determine correlation r2 between the two variables\n",
    "r2 = r2_score(train['cont11'],train['cont12'])\n",
    "print('cont11 and cont12 are highly correlated with r2 score of %f' %r2)\n",
    "# PCA should take care of these but lets drop one of them just in case\n",
    "train.drop(labels=['cont11'], axis=1,inplace = True)\n",
    "train_sub.drop(labels=['cont11'], axis=1,inplace = True)\n",
    "cross_val.drop(labels=['cont11'], axis=1,inplace = True)\n",
    "test.drop(labels=['cont11'], axis=1,inplace = True)"
   ]
  },
  {
   "cell_type": "markdown",
   "metadata": {},
   "source": [
    "## PCA to perform dimensionality reduction and take care of correlated features"
   ]
  },
  {
   "cell_type": "code",
   "execution_count": null,
   "metadata": {
    "collapsed": false
   },
   "outputs": [],
   "source": [
    "# PCA\n",
    "pca= decomposition.PCA(n_components=75)\n",
    "train_pca = pca.fit_transform(train.iloc[:,2:])\n",
    "train_sub_pca = pca.transform(train_sub.iloc[:,2:])\n",
    "cross_val_pca = pca.transform(cross_val.iloc[:,2:])\n",
    "test_pca = pca.transform(test.iloc[:,1:])"
   ]
  },
  {
   "cell_type": "markdown",
   "metadata": {},
   "source": [
    "## Random Forest Model"
   ]
  },
  {
   "cell_type": "code",
   "execution_count": null,
   "metadata": {
    "collapsed": false
   },
   "outputs": [],
   "source": [
    "# Random Forest Regression\n",
    "#rf = RandomForestRegressor(n_estimators = 5, criterion='mse',min_samples_leaf=10,max_features = 100, random_state = 3)\n",
    "rf = RandomForestRegressor(n_estimators = 1000, criterion='mse',min_samples_leaf=10,min_samples_split=50,max_features = 100, random_state = 3)\n",
    "#rf = RandomForestRegressor(n_estimators = 100, criterion='mse',min_samples_split=40,min_samples_leaf=20,max_features = 40, random_state = 3)\n",
    "#rf = RandomForestRegressor(n_estimators = 5, criterion='mse',min_samples_leaf=15,max_features = 100) \n",
    "\n",
    "start_time = time.time()\n",
    "# train the model\n",
    "rf.fit(train_sub.iloc[:,2:],train_sub.iloc[:,0])\n",
    "#rf.fit(train_sub_pca,train_sub.iloc[:,0])\n",
    "elapsed_time = time.time() - start_time\n",
    "print('Model trained in  %f seconds' % elapsed_time)\n",
    "\n",
    "# predict the loss for training and cross validation\n",
    "loss_pred_train = rf.predict(train_sub.iloc[:,2:])\n",
    "#loss_pred_train = rf.predict(train_sub_pca)\n",
    "MAE_train = mean_absolute_error(train_sub.iloc[:,0],loss_pred_train)\n",
    "print('MAE on training set = %f' % MAE_train)\n",
    "\n",
    "loss_pred_cv = rf.predict(cross_val.iloc[:,2:])\n",
    "#loss_pred_cv = rf.predict(cross_val_pca)\n",
    "MAE_cv = mean_absolute_error(cross_val.iloc[:,0],loss_pred_cv)\n",
    "print('MAE on cross validation set = %f' % MAE_cv)"
   ]
  },
  {
   "cell_type": "code",
   "execution_count": null,
   "metadata": {
    "collapsed": false
   },
   "outputs": [],
   "source": [
    "# Choose Number of Trees\n",
    "trees = [1,3,10,30,100]\n",
    "train_error_all = []\n",
    "cv_error_all = []\n",
    "size = 1000;\n",
    "for i in range(len(trees)):\n",
    "    rf = RandomForestRegressor(n_estimators = trees[i], random_state = 3)\n",
    "    rf.fit(train_sub.iloc[:size,2:],train_sub.iloc[:size,0])\n",
    "    loss_pred_train = rf.predict(train_sub.iloc[:size,2:])\n",
    "    MAE_train = mean_absolute_error(train_sub.iloc[:size,0],loss_pred_train)\n",
    "    loss_pred_cv = rf.predict(cross_val.iloc[:,2:])\n",
    "    MAE_cv = mean_absolute_error(cross_val.iloc[:,0],loss_pred_cv)\n",
    "    \n",
    "    train_error_all = np.append(train_error_all,MAE_train)\n",
    "    cv_error_all = np.append(cv_error_all,MAE_cv)\n",
    "\n",
    "pylab.plot(trees,train_error_all,'b--',label='training')\n",
    "pylab.plot(trees,cv_error_all,'r--',label='cross-validation')\n",
    "pylab.legend(loc='upper right')\n",
    "pylab.xlabel('Number of trees')\n",
    "pylab.ylabel('MAE')"
   ]
  },
  {
   "cell_type": "code",
   "execution_count": null,
   "metadata": {
    "collapsed": false
   },
   "outputs": [],
   "source": [
    "# Choose Min Samples to Split\n",
    "splits = [2,4,16,40,100]\n",
    "train_error_all = []\n",
    "cv_error_all = []\n",
    "size = 1000;\n",
    "for i in range(len(trees)):\n",
    "    rf = RandomForestRegressor(n_estimators = 100, min_samples_split=splits[i], random_state = 3)\n",
    "    rf.fit(train_sub.iloc[:size,2:],train_sub.iloc[:size,0])\n",
    "    loss_pred_train = rf.predict(train_sub.iloc[:size,2:])\n",
    "    MAE_train = mean_absolute_error(train_sub.iloc[:size,0],loss_pred_train)\n",
    "    loss_pred_cv = rf.predict(cross_val.iloc[:,2:])\n",
    "    MAE_cv = mean_absolute_error(cross_val.iloc[:,0],loss_pred_cv)\n",
    "    \n",
    "    train_error_all = np.append(train_error_all,MAE_train)\n",
    "    cv_error_all = np.append(cv_error_all,MAE_cv)\n",
    "\n",
    "pylab.plot(splits,train_error_all,'b--',label='training')\n",
    "pylab.plot(splits,cv_error_all,'r--',label='cross-validation')\n",
    "pylab.legend(loc='upper right')\n",
    "pylab.xlabel('Min Samples to Split')\n",
    "pylab.ylabel('MAE')"
   ]
  },
  {
   "cell_type": "code",
   "execution_count": null,
   "metadata": {
    "collapsed": false
   },
   "outputs": [],
   "source": [
    "# Choose Min Samples at Leaf\n",
    "leaf = [1,3,10,30,100]\n",
    "train_error_all = []\n",
    "cv_error_all = []\n",
    "size = 1000;\n",
    "for i in range(len(trees)):\n",
    "    rf = RandomForestRegressor(n_estimators = 100, min_samples_split=100,min_samples_leaf=leaf[i], random_state = 3)\n",
    "    rf.fit(train_sub.iloc[:size,2:],train_sub.iloc[:size,0])\n",
    "    loss_pred_train = rf.predict(train_sub.iloc[:size,2:])\n",
    "    MAE_train = mean_absolute_error(train_sub.iloc[:size,0],loss_pred_train)\n",
    "    loss_pred_cv = rf.predict(cross_val.iloc[:,2:])\n",
    "    MAE_cv = mean_absolute_error(cross_val.iloc[:,0],loss_pred_cv)\n",
    "    \n",
    "    train_error_all = np.append(train_error_all,MAE_train)\n",
    "    cv_error_all = np.append(cv_error_all,MAE_cv)\n",
    "\n",
    "pylab.plot(leaf,train_error_all,'b--',label='training')\n",
    "pylab.plot(leaf,cv_error_all,'r--',label='cross-validation')\n",
    "pylab.legend(loc='upper right')\n",
    "pylab.xlabel('Min Samples at Leaf')\n",
    "pylab.ylabel('MAE')"
   ]
  },
  {
   "cell_type": "code",
   "execution_count": null,
   "metadata": {
    "collapsed": false
   },
   "outputs": [],
   "source": [
    "# Choose Max Features to consider\n",
    "feat = [2,4,16,40,100]\n",
    "train_error_all = []\n",
    "cv_error_all = []\n",
    "size = 1000;\n",
    "for i in range(len(trees)):\n",
    "    rf = RandomForestRegressor(n_estimators = 100, min_samples_split=100,min_samples_leaf=20,max_features = feat[i], random_state = 3)\n",
    "    rf.fit(train_sub.iloc[:size,2:],train_sub.iloc[:size,0])\n",
    "    loss_pred_train = rf.predict(train_sub.iloc[:size,2:])\n",
    "    MAE_train = mean_absolute_error(train_sub.iloc[:size,0],loss_pred_train)\n",
    "    loss_pred_cv = rf.predict(cross_val.iloc[:,2:])\n",
    "    MAE_cv = mean_absolute_error(cross_val.iloc[:,0],loss_pred_cv)\n",
    "    \n",
    "    train_error_all = np.append(train_error_all,MAE_train)\n",
    "    cv_error_all = np.append(cv_error_all,MAE_cv)\n",
    "\n",
    "pylab.plot(feat,train_error_all,'b--',label='training')\n",
    "pylab.plot(feat,cv_error_all,'r--',label='cross-validation')\n",
    "pylab.legend(loc='upper right')\n",
    "pylab.xlabel('Max Features to Consider for Split')\n",
    "pylab.ylabel('MAE')"
   ]
  },
  {
   "cell_type": "code",
   "execution_count": null,
   "metadata": {
    "collapsed": false
   },
   "outputs": [],
   "source": [
    "# Try on the test set and make kaggle output\n",
    "loss_pred_test = rf.predict(test.iloc[:,1:])\n",
    "#loss_pred_test = rf.predict(test_pca)\n",
    "\n",
    "test_results_id = test['id']\n",
    "test_results_loss = loss_pred_test\n",
    "\n",
    "# Create results data frame\n",
    "test_df = pd.DataFrame(data=test_results_id)\n",
    "test_df.insert(1, 'loss', test_results_loss)\n",
    "\n",
    "# Save output to csv format\n",
    "test_df.to_csv('RF_results.csv',index = False)"
   ]
  },
  {
   "cell_type": "markdown",
   "metadata": {},
   "source": [
    "## Lasso Model"
   ]
  },
  {
   "cell_type": "code",
   "execution_count": null,
   "metadata": {
    "collapsed": false
   },
   "outputs": [],
   "source": [
    "# Lasso Regression\n",
    "lasso = Lasso(alpha=0.1);\n",
    "\n",
    "pca_bool = True;\n",
    "\n",
    "x_train = train_sub_pca\n",
    "x_cv = cross_val_pca\n",
    "\n",
    "if (pca_bool == True):\n",
    "    lasso.fit(x_train,train_sub.iloc[:,0])\n",
    "    loss_pred_train = lasso.predict(x_train)\n",
    "    loss_pred_cv = lasso.predict(x_cv)\n",
    "else:\n",
    "    lasso.fit(train_sub.iloc[:,2:],train_sub.iloc[:,0])\n",
    "    loss_pred_train = lasso.predict(train_sub.iloc[:,2:])\n",
    "    loss_pred_cv = lasso.predict(cross_val.iloc[:,2:])\n",
    "\n",
    "# predict the loss for training and cross validation\n",
    "MAE_train = mean_absolute_error(train_sub.iloc[:,0],loss_pred_train)\n",
    "print('MAE on training set = %f' % MAE_train)\n",
    "\n",
    "MAE_cv = mean_absolute_error(cross_val.iloc[:,0],loss_pred_cv)\n",
    "print('MAE on cross validation set = %f' % MAE_cv)"
   ]
  },
  {
   "cell_type": "code",
   "execution_count": null,
   "metadata": {
    "collapsed": true
   },
   "outputs": [],
   "source": [
    "# Try on the test set and make kaggle output\n",
    "loss_pred_test = lasso.predict(test_pca)\n",
    "\n",
    "test_results_id = test['id']\n",
    "test_results_loss = loss_pred_test\n",
    "\n",
    "# Create results data frame\n",
    "test_df = pd.DataFrame(data=test_results_id)\n",
    "test_df.insert(1, 'loss', test_results_loss)\n",
    "\n",
    "# Save output to csv format\n",
    "test_df.to_csv('LASSO_results.csv',index = False)"
   ]
  },
  {
   "cell_type": "markdown",
   "metadata": {},
   "source": [
    "## Support Vector Model"
   ]
  },
  {
   "cell_type": "code",
   "execution_count": null,
   "metadata": {
    "collapsed": false
   },
   "outputs": [],
   "source": [
    "# Support Vector Regression\n",
    "svr = SVR(kernel='rbf', epsilon = 0.1);\n",
    "#svr = SVR(kernel='poly', degree=2);\n",
    "size = 100;\n",
    "svr.fit(train_sub_pca[0:size,:],train_sub.iloc[0:size,0])\n",
    "\n",
    "# predict the loss for training and cross validation\n",
    "#loss_pred_train = rf.predict(train_sub.iloc[:,2:])\n",
    "loss_pred_train = svr.predict(train_sub_pca)\n",
    "MAE_train = mean_absolute_error(train_sub.iloc[:,0],loss_pred_train)\n",
    "print('MAE on training set = %f' % MAE_train)\n",
    "\n",
    "#loss_pred_cv = rf.predict(cross_val.iloc[:,2:])\n",
    "loss_pred_cv = svr.predict(cross_val_pca)\n",
    "MAE_cv = mean_absolute_error(cross_val.iloc[:,0],loss_pred_cv)\n",
    "print('MAE on cross validation set = %f' % MAE_cv)"
   ]
  },
  {
   "cell_type": "markdown",
   "metadata": {},
   "source": [
    "## Bayesian Model"
   ]
  },
  {
   "cell_type": "code",
   "execution_count": null,
   "metadata": {
    "collapsed": false
   },
   "outputs": [],
   "source": [
    "poly = PolynomialFeatures(degree=2,interaction_only=True)\n",
    "x = poly.fit_transform(train_sub_pca)\n",
    "x.shape"
   ]
  },
  {
   "cell_type": "code",
   "execution_count": null,
   "metadata": {
    "collapsed": false
   },
   "outputs": [],
   "source": [
    "# Bayesian regression w/ poly features\n",
    "br = BayesianRidge();\n",
    "\n",
    "x_poly = poly.transform(train_sub_pca)\n",
    "cv_poly = poly.transform(cross_val_pca)\n",
    "\n",
    "br.fit(x_poly,train_sub.iloc[:,0])\n",
    "\n",
    "# predict the loss for training and cross validation\n",
    "#loss_pred_train = br.predict(train_sub_pca)\n",
    "loss_pred_train = br.predict(x_poly)\n",
    "MAE_train = mean_absolute_error(train_sub.iloc[:,0],loss_pred_train)\n",
    "print('MAE on training set = %f' % MAE_train)\n",
    "\n",
    "#loss_pred_cv = br.predict(cross_val_pca)\n",
    "loss_pred_cv = br.predict(cv_poly)\n",
    "MAE_cv = mean_absolute_error(cross_val.iloc[:,0],loss_pred_cv)\n",
    "print('MAE on cross validation set = %f' % MAE_cv)"
   ]
  },
  {
   "cell_type": "code",
   "execution_count": null,
   "metadata": {
    "collapsed": true
   },
   "outputs": [],
   "source": [
    "# Try on the test set and make kaggle output\n",
    "loss_pred_test = br.predict(poly.transform(test_pca))\n",
    "\n",
    "test_results_id = test['id']\n",
    "test_results_loss = loss_pred_test\n",
    "\n",
    "# Create results data frame\n",
    "test_df = pd.DataFrame(data=test_results_id)\n",
    "test_df.insert(1, 'loss', test_results_loss)\n",
    "\n",
    "# Save output to csv format\n",
    "test_df.to_csv('Poly_Bayesian_results.csv',index = False)"
   ]
  },
  {
   "cell_type": "markdown",
   "metadata": {
    "collapsed": true
   },
   "source": [
    "## Multi-layer Perceptron "
   ]
  },
  {
   "cell_type": "code",
   "execution_count": null,
   "metadata": {
    "collapsed": false
   },
   "outputs": [],
   "source": [
    "\n",
    "# MLP Regressor\n",
    "#nn = MLPRegressor(hidden_layer_sizes=(100, 100, 100, 100, 100, 100, 100, 100, 100, 100),alpha= 0.0001, activation = 'relu',random_state = 13)\n",
    "#nn = MLPRegressor(hidden_layer_sizes=(30, 30, 30,), activation = 'relu',alpha= 0.3, random_state = 3)\n",
    "nn = MLPRegressor(hidden_layer_sizes=(30, 30, 30,), activation = 'relu',alpha= 0.3, random_state = 6)\n",
    "\n",
    "start_time = time.time()\n",
    "# train the model\n",
    "nn.fit(train_sub.iloc[0:,2:],train_sub.iloc[0:,0])\n",
    "\n",
    "elapsed_time = time.time() - start_time\n",
    "print('Model trained in  %f seconds' % elapsed_time)\n",
    "\n",
    "# predict the loss for training and cross validation\n",
    "loss_pred_train = nn.predict(train_sub.iloc[:,2:])\n",
    "\n",
    "MAE_train = mean_absolute_error(train_sub.iloc[:,0],loss_pred_train)\n",
    "print('MAE on training set = %f' % MAE_train)\n",
    "\n",
    "loss_pred_cv = nn.predict(cross_val.iloc[:,2:]) \n",
    "\n",
    "    \n",
    "MAE_cv = mean_absolute_error(cross_val.iloc[:,0],loss_pred_cv)\n",
    "print('MAE on cross validation set = %f' % MAE_cv)"
   ]
  },
  {
   "cell_type": "code",
   "execution_count": null,
   "metadata": {
    "collapsed": false
   },
   "outputs": [],
   "source": [
    "# Choose Activation Function\n",
    "act = ['identity', 'logistic', 'tanh', 'relu']\n",
    "train_error_all = []\n",
    "cv_error_all = []\n",
    "size = 1000;\n",
    "for i in range(len(act)):\n",
    "    nn = MLPRegressor(activation = act[i])\n",
    "    nn.fit(train_sub.iloc[:size,2:],train_sub.iloc[:size,0])\n",
    "    loss_pred_train = nn.predict(train_sub.iloc[:size,2:])\n",
    "    MAE_train = mean_absolute_error(train_sub.iloc[:size,0],loss_pred_train)\n",
    "    loss_pred_cv = nn.predict(cross_val.iloc[:,2:])\n",
    "    MAE_cv = mean_absolute_error(cross_val.iloc[:,0],loss_pred_cv)\n",
    "    \n",
    "    train_error_all = np.append(train_error_all,MAE_train)\n",
    "    cv_error_all = np.append(cv_error_all,MAE_cv)\n",
    "\n",
    "print(cv_error_all)\n",
    "print(train_error_all)"
   ]
  },
  {
   "cell_type": "code",
   "execution_count": null,
   "metadata": {
    "collapsed": false
   },
   "outputs": [],
   "source": [
    "# Choose Number of Hidden Layers\n",
    "num_layers = [1,3,10]\n",
    "\n",
    "train_error_all = []\n",
    "cv_error_all = []\n",
    "size = 1000;\n",
    "for i in range(len(num_layers)):\n",
    "    if (i ==0):\n",
    "        nn = MLPRegressor(activation = 'relu', hidden_layer_sizes=(100,))\n",
    "    elif (i == 1):\n",
    "        nn = MLPRegressor(activation = 'relu', hidden_layer_sizes=(100,100,100,))\n",
    "    elif (i == 2):\n",
    "        nn = MLPRegressor(activation = 'relu', hidden_layer_sizes=(100,100,100,100,100,100,100,100,100,100,))\n",
    "    nn.fit(train_sub.iloc[:size,2:],train_sub.iloc[:size,0])\n",
    "    loss_pred_train = nn.predict(train_sub.iloc[:size,2:])\n",
    "    MAE_train = mean_absolute_error(train_sub.iloc[:size,0],loss_pred_train)\n",
    "    loss_pred_cv = nn.predict(cross_val.iloc[:,2:])\n",
    "    MAE_cv = mean_absolute_error(cross_val.iloc[:,0],loss_pred_cv)\n",
    "    \n",
    "    train_error_all = np.append(train_error_all,MAE_train)\n",
    "    cv_error_all = np.append(cv_error_all,MAE_cv)\n",
    "\n",
    "pylab.plot(num_layers,train_error_all,'b--',label='training')\n",
    "pylab.plot(num_layers,cv_error_all,'r--',label='cross-validation')\n",
    "pylab.legend(loc='upper right')\n",
    "pylab.xlabel('Number of Hidden Layers')\n",
    "pylab.ylabel('MAE')"
   ]
  },
  {
   "cell_type": "code",
   "execution_count": null,
   "metadata": {
    "collapsed": false
   },
   "outputs": [],
   "source": [
    "# Choose Hidden Layer Size\n",
    "layer_size = [3,10,30,100]\n",
    "\n",
    "train_error_all = []\n",
    "cv_error_all = []\n",
    "size = 1000;\n",
    "for i in range(len(layer_size)):\n",
    "    nn = MLPRegressor(activation = 'relu', hidden_layer_sizes=(layer_size[i],layer_size[i],layer_size[i],))\n",
    "    nn.fit(train_sub.iloc[:size,2:],train_sub.iloc[:size,0])\n",
    "    loss_pred_train = nn.predict(train_sub.iloc[:size,2:])\n",
    "    MAE_train = mean_absolute_error(train_sub.iloc[:size,0],loss_pred_train)\n",
    "    loss_pred_cv = nn.predict(cross_val.iloc[:,2:])\n",
    "    MAE_cv = mean_absolute_error(cross_val.iloc[:,0],loss_pred_cv)\n",
    "    \n",
    "    train_error_all = np.append(train_error_all,MAE_train)\n",
    "    cv_error_all = np.append(cv_error_all,MAE_cv)\n",
    "\n",
    "pylab.plot(layer_size,train_error_all,'b--',label='training')\n",
    "pylab.plot(layer_size,cv_error_all,'r--',label='cross-validation')\n",
    "pylab.legend(loc='upper right')\n",
    "pylab.xlabel('Number of Neurons in each Hidden layer')\n",
    "pylab.ylabel('MAE')"
   ]
  },
  {
   "cell_type": "code",
   "execution_count": null,
   "metadata": {
    "collapsed": true
   },
   "outputs": [],
   "source": [
    "# Try on the test set and make kaggle output\n",
    "loss_pred_test = nn.predict(test.iloc[:,1:])\n",
    "#loss_pred_test = rf.predict(test_pca)\n",
    "\n",
    "test_results_id = test['id']\n",
    "test_results_loss = loss_pred_test\n",
    "\n",
    "# Create results data frame\n",
    "test_df = pd.DataFrame(data=test_results_id)\n",
    "test_df.insert(1, 'loss', test_results_loss)\n",
    "\n",
    "# Save output to csv format\n",
    "test_df.to_csv('NN_results.csv',index = False)"
   ]
  },
  {
   "cell_type": "markdown",
   "metadata": {},
   "source": [
    "## Combine MLP and RF"
   ]
  },
  {
   "cell_type": "code",
   "execution_count": null,
   "metadata": {
    "collapsed": false
   },
   "outputs": [],
   "source": [
    "# Combine RF and MLP \n",
    "loss_pred_cv_rf = rf.predict(cross_val.iloc[:,2:])\n",
    "loss_pred_cv_nn = nn.predict(cross_val.iloc[:,2:])\n",
    "loss_pred_cv = (loss_pred_cv_rf + loss_pred_cv_nn)/2\n",
    "#loss_pred_cv = rf.predict(cross_val_pca)\n",
    "MAE_cv = mean_absolute_error(cross_val.iloc[:,0],loss_pred_cv)\n",
    "print('MAE on cross validation set = %f' % MAE_cv)"
   ]
  },
  {
   "cell_type": "code",
   "execution_count": null,
   "metadata": {
    "collapsed": true
   },
   "outputs": [],
   "source": [
    "# Try on the test set and make kaggle output\n",
    "loss_pred_test = (nn.predict(test.iloc[:,1:]) + rf.predict(test.iloc[:,1:]))/2\n",
    "#loss_pred_test = rf.predict(test_pca)\n",
    "\n",
    "test_results_id = test['id']\n",
    "test_results_loss = loss_pred_test\n",
    "\n",
    "# Create results data frame\n",
    "test_df = pd.DataFrame(data=test_results_id)\n",
    "test_df.insert(1, 'loss', test_results_loss)\n",
    "\n",
    "# Save output to csv format\n",
    "test_df.to_csv('NN_RF_combo_results.csv',index = False)"
   ]
  },
  {
   "cell_type": "markdown",
   "metadata": {},
   "source": [
    "## Adaboost Regression"
   ]
  },
  {
   "cell_type": "code",
   "execution_count": 15,
   "metadata": {
    "collapsed": false
   },
   "outputs": [
    {
     "name": "stdout",
     "output_type": "stream",
     "text": [
      "Model trained in  5757.271246 seconds\n",
      "MAE on training set = 611.610900\n",
      "MAE on cross validation set = 1357.167168\n"
     ]
    }
   ],
   "source": [
    "\n",
    "# Adaboost\n",
    "ab = AdaBoostRegressor(DecisionTreeRegressor(max_depth=20),\n",
    "                          n_estimators=1000, random_state=3)\n",
    "\n",
    "#ab= AdaBoostRegressor(MLPRegressor(hidden_layer_sizes=(30, 30, 30,), activation = 'relu',alpha= 0.3), n_estimators=5, random_state=6)\n",
    "\n",
    "start_time = time.time()\n",
    "# train the model\n",
    "ab.fit(train_sub.iloc[0:,2:],train_sub.iloc[0:,0])\n",
    "\n",
    "\n",
    "elapsed_time = time.time() - start_time\n",
    "print('Model trained in  %f seconds' % elapsed_time)\n",
    "\n",
    "# predict the loss for training and cross validation\n",
    "loss_pred_train = ab.predict(train_sub.iloc[:,2:])\n",
    "\n",
    "MAE_train = mean_absolute_error(train_sub.iloc[:,0],loss_pred_train)\n",
    "print('MAE on training set = %f' % MAE_train)\n",
    "\n",
    "loss_pred_cv = ab.predict(cross_val.iloc[:,2:]) \n",
    "\n",
    "    \n",
    "MAE_cv = mean_absolute_error(cross_val.iloc[:,0],loss_pred_cv)\n",
    "print('MAE on cross validation set = %f' % MAE_cv)\n",
    "\n",
    "# Try on the test set and make kaggle output\n",
    "loss_pred_test = ab.predict(test.iloc[:,1:])\n",
    "#loss_pred_test = rf.predict(test_pca)\n",
    "\n",
    "test_results_id = test['id']\n",
    "test_results_loss = loss_pred_test\n",
    "\n",
    "# Create results data frame\n",
    "test_df = pd.DataFrame(data=test_results_id)\n",
    "test_df.insert(1, 'loss', test_results_loss)\n",
    "\n",
    "# Save output to csv format\n",
    "test_df.to_csv('Adaboost_results.csv',index = False)"
   ]
  }
 ],
 "metadata": {
  "anaconda-cloud": {},
  "kernelspec": {
   "display_name": "Python 3",
   "language": "python",
   "name": "python3"
  },
  "language_info": {
   "codemirror_mode": {
    "name": "ipython",
    "version": 3
   },
   "file_extension": ".py",
   "mimetype": "text/x-python",
   "name": "python",
   "nbconvert_exporter": "python",
   "pygments_lexer": "ipython3",
   "version": "3.5.2"
  }
 },
 "nbformat": 4,
 "nbformat_minor": 0
}
